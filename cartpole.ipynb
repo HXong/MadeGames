{
  "nbformat": 4,
  "nbformat_minor": 0,
  "metadata": {
    "colab": {
      "provenance": [],
      "include_colab_link": true
    },
    "kernelspec": {
      "name": "python3",
      "display_name": "Python 3"
    },
    "language_info": {
      "name": "python"
    }
  },
  "cells": [
    {
      "cell_type": "markdown",
      "metadata": {
        "id": "view-in-github",
        "colab_type": "text"
      },
      "source": [
        "<a href=\"https://colab.research.google.com/github/HXong/MadeGames/blob/main/cartpole.ipynb\" target=\"_parent\"><img src=\"https://colab.research.google.com/assets/colab-badge.svg\" alt=\"Open In Colab\"/></a>"
      ]
    },
    {
      "cell_type": "markdown",
      "source": [
        "# Tutorial and Sample Code for Balancing a Pole on a Cart"
      ],
      "metadata": {
        "id": "ZauhjPSfX7pI"
      }
    },
    {
      "cell_type": "markdown",
      "source": [
        "## Installing dependencies:"
      ],
      "metadata": {
        "id": "UBiYOoesYMvr"
      }
    },
    {
      "cell_type": "code",
      "execution_count": 1,
      "metadata": {
        "colab": {
          "base_uri": "https://localhost:8080/"
        },
        "id": "PbgnVwZmX5uW",
        "outputId": "42528d7c-1628-4002-fa46-e76c5e6fedbe"
      },
      "outputs": [
        {
          "output_type": "stream",
          "name": "stdout",
          "text": [
            "Requirement already satisfied: gym[classic_control] in /usr/local/lib/python3.11/dist-packages (0.25.2)\n",
            "Requirement already satisfied: numpy>=1.18.0 in /usr/local/lib/python3.11/dist-packages (from gym[classic_control]) (1.26.4)\n",
            "Requirement already satisfied: cloudpickle>=1.2.0 in /usr/local/lib/python3.11/dist-packages (from gym[classic_control]) (3.1.1)\n",
            "Requirement already satisfied: gym_notices>=0.0.4 in /usr/local/lib/python3.11/dist-packages (from gym[classic_control]) (0.0.8)\n",
            "Collecting pygame==2.1.0 (from gym[classic_control])\n",
            "  Using cached pygame-2.1.0.tar.gz (5.8 MB)\n",
            "  \u001b[1;31merror\u001b[0m: \u001b[1msubprocess-exited-with-error\u001b[0m\n",
            "  \n",
            "  \u001b[31m×\u001b[0m \u001b[32mpython setup.py egg_info\u001b[0m did not run successfully.\n",
            "  \u001b[31m│\u001b[0m exit code: \u001b[1;36m1\u001b[0m\n",
            "  \u001b[31m╰─>\u001b[0m See above for output.\n",
            "  \n",
            "  \u001b[1;35mnote\u001b[0m: This error originates from a subprocess, and is likely not a problem with pip.\n",
            "  Preparing metadata (setup.py) ... \u001b[?25l\u001b[?25herror\n",
            "\u001b[1;31merror\u001b[0m: \u001b[1mmetadata-generation-failed\u001b[0m\n",
            "\n",
            "\u001b[31m×\u001b[0m Encountered error while generating package metadata.\n",
            "\u001b[31m╰─>\u001b[0m See above for output.\n",
            "\n",
            "\u001b[1;35mnote\u001b[0m: This is an issue with the package mentioned above, not pip.\n",
            "\u001b[1;36mhint\u001b[0m: See above for details.\n",
            "Requirement already satisfied: setuptools in /usr/local/lib/python3.11/dist-packages (75.8.2)\n"
          ]
        }
      ],
      "source": [
        "!apt-get install -y xvfb python-opengl > /dev/null 2>&1\n",
        "!pip install gym pyvirtualdisplay > /dev/null 2>&1\n",
        "!pip install gym pyvirtualdisplay > /dev/null 2>&1\n",
        "!apt-get install -y xvfb python-opengl ffmpeg > /dev/null 2>&1\n",
        "!pip install gym[classic_control]\n",
        "!apt-get update > /dev/null 2>&1\n",
        "!apt-get install cmake > /dev/null 2>&1\n",
        "!pip install --upgrade setuptools 2>&1\n",
        "!pip install ez_setup > /dev/null 2>&1"
      ]
    },
    {
      "cell_type": "markdown",
      "source": [
        "## Importing dependencies and define helper functions"
      ],
      "metadata": {
        "id": "RwKbYeTgbaTA"
      }
    },
    {
      "cell_type": "code",
      "source": [
        "import gym\n",
        "from gym import logger as gymlogger\n",
        "from gym.wrappers import RecordVideo\n",
        "gymlogger.set_level(40) #error only\n",
        "import tensorflow as tf\n",
        "import numpy as np\n",
        "import random\n",
        "import matplotlib\n",
        "import matplotlib.pyplot as plt\n",
        "%matplotlib inline\n",
        "import math\n",
        "import glob\n",
        "import io\n",
        "import base64\n",
        "from IPython.display import HTML\n",
        "from IPython import display as ipythondisplay\n",
        "\n",
        "def show_video():\n",
        "  mp4list = glob.glob('video/*.mp4')\n",
        "  if len(mp4list) > 0:\n",
        "    mp4 = mp4list[0]\n",
        "    video = io.open(mp4, 'r+b').read()\n",
        "    encoded = base64.b64encode(video)\n",
        "    ipythondisplay.display(HTML(data='''<video alt=\"test\" autoplay\n",
        "                loop controls style=\"height: 400px;\">\n",
        "                <source src=\"data:video/mp4;base64,{0}\" type=\"video/mp4\" />\n",
        "             </video>'''.format(encoded.decode('ascii'))))\n",
        "  else:\n",
        "    print(\"Could not find video\")"
      ],
      "metadata": {
        "id": "j6KpgCLGYWmj"
      },
      "execution_count": 53,
      "outputs": []
    },
    {
      "cell_type": "markdown",
      "source": [
        "## Tutorial: Loading CartPole environment"
      ],
      "metadata": {
        "id": "ehbqP9CXbmo7"
      }
    },
    {
      "cell_type": "code",
      "source": [
        "env = gym.make(\"CartPole-v1\")"
      ],
      "metadata": {
        "id": "Go12dH4qbwBy"
      },
      "execution_count": 20,
      "outputs": []
    },
    {
      "cell_type": "markdown",
      "source": [
        "Action Space: The cart can move left (0) or right (1)."
      ],
      "metadata": {
        "id": "LW0p4l3wOYIE"
      }
    },
    {
      "cell_type": "code",
      "source": [
        "print(\"Action Space:\", env.action_space)"
      ],
      "metadata": {
        "colab": {
          "base_uri": "https://localhost:8080/"
        },
        "id": "ytxvVmLdcRyw",
        "outputId": "05bb0fa9-a0d8-446a-fe25-34f0b83de4db"
      },
      "execution_count": 21,
      "outputs": [
        {
          "output_type": "stream",
          "name": "stdout",
          "text": [
            "Action Space: Discrete(2)\n"
          ]
        }
      ]
    },
    {
      "cell_type": "markdown",
      "source": [
        "The observation space is given below. The first two arrays define the min and max values of the 4 observed values, corresponding to cart position, velocity and pole angle, angular velocity."
      ],
      "metadata": {
        "id": "pVXGWi_Ncfg-"
      }
    },
    {
      "cell_type": "code",
      "source": [
        "print(env.observation_space)"
      ],
      "metadata": {
        "colab": {
          "base_uri": "https://localhost:8080/"
        },
        "id": "DyqHr9I5cdkX",
        "outputId": "80759420-56c8-4b1c-f231-325c10e13d82"
      },
      "execution_count": 22,
      "outputs": [
        {
          "output_type": "stream",
          "name": "stdout",
          "text": [
            "Box([-4.8000002e+00 -3.4028235e+38 -4.1887903e-01 -3.4028235e+38], [4.8000002e+00 3.4028235e+38 4.1887903e-01 3.4028235e+38], (4,), float32)\n"
          ]
        }
      ]
    },
    {
      "cell_type": "markdown",
      "source": [
        "###Importing torch for agent"
      ],
      "metadata": {
        "id": "kyHOaDYvzkjB"
      }
    },
    {
      "cell_type": "code",
      "source": [
        "import torch\n",
        "import torch.nn as nn\n",
        "import torch.optim as optim\n",
        "import random\n",
        "from collections import deque"
      ],
      "metadata": {
        "id": "CJj_lSA7zioa"
      },
      "execution_count": 23,
      "outputs": []
    },
    {
      "cell_type": "markdown",
      "source": [
        "###Define the Q-Network (Neural Network for DQN) using Pytorch\n",
        "\n",
        "self.fc1 => extracts from input state (with 64 neurons)\n",
        "\n",
        "self.fc2 => Further processes the information\n",
        "\n",
        "self.fc3 => Outputs Q-values for actions  \n",
        "\n",
        "###output = (state * weights) + bias\n",
        "\n",
        "---------------------------------------------------------\n",
        "\n",
        "torch.relu introduces non-linearity, helping the network learn better.\n",
        "\n",
        "--> Basically, for any negative values, it will become 0 (if not it will act as a simple linear function)\n",
        "\n",
        "fc3 does not require reLU as Q-values can be negative or positive."
      ],
      "metadata": {
        "id": "HFOdaU2Gdyg0"
      }
    },
    {
      "cell_type": "code",
      "source": [
        "class QNetwork(nn.Module):\n",
        "    def __init__(self, state_size, action_size):\n",
        "        super(QNetwork, self).__init__()\n",
        "        self.fc1 = nn.Linear(state_size, 64)\n",
        "        self.fc2 = nn.Linear(64, 64)\n",
        "        self.fc3 = nn.Linear(64, action_size)\n",
        "\n",
        "    def forward(self, x):\n",
        "        x = torch.relu(self.fc1(x))\n",
        "        x = torch.relu(self.fc2(x))\n",
        "        return self.fc3(x)"
      ],
      "metadata": {
        "id": "VMr6qAqxdOsm"
      },
      "execution_count": 24,
      "outputs": []
    },
    {
      "cell_type": "markdown",
      "source": [
        "###Experience Replay Buffer\n",
        "\n",
        "Purpose is to store past experiences so the agent can learn from them (RL learning)\n",
        "\n",
        "Methods:\n",
        "\n",
        "-->add(): Adds a new experience (state, action, reward, next_state, done).\n",
        "\n",
        "-->sample(): Retrieves a random batch of experiences for training.\n",
        "\n",
        "-->size(): Returns the number of stored experiences."
      ],
      "metadata": {
        "id": "qnG2QdfbeZrI"
      }
    },
    {
      "cell_type": "code",
      "source": [
        "class ReplayBuffer:\n",
        "    def __init__(self, capacity):\n",
        "        self.buffer = deque(maxlen=capacity)\n",
        "\n",
        "    def add(self, experience):\n",
        "        self.buffer.append(experience)\n",
        "\n",
        "    def sample(self, batch_size):\n",
        "        return random.sample(self.buffer, batch_size)\n",
        "\n",
        "    def size(self):\n",
        "        return len(self.buffer)"
      ],
      "metadata": {
        "id": "MmfMDvyYdWGk"
      },
      "execution_count": 25,
      "outputs": []
    },
    {
      "cell_type": "markdown",
      "source": [
        "###Initialize DQN Training Components\n",
        "\n",
        "q_network --> Main DQN model (used for selecting actions).\n",
        "\n",
        "target_network --> Separate copy of the network (stabilizes training).\n",
        "\n",
        "Optimizer --> Adam is used for gradient descent updates.\n",
        "\n",
        "Loss Function --> MSELoss (Mean Squared Error) is used to measure Q-value errors."
      ],
      "metadata": {
        "id": "tj0zCh59fhBb"
      }
    },
    {
      "cell_type": "code",
      "source": [
        "state_size = env.observation_space.shape[0]\n",
        "action_size = env.action_space.n\n",
        "\n",
        "device = torch.device(\"cuda\" if torch.cuda.is_available() else \"cpu\") #check for graphics card\n",
        "\n",
        "# Hyperparameters\n",
        "learning_rate = 0.001 #higher value means learns faster but unstable\n",
        "gamma = 0.99 # using the formula from lecture, Q(s,a)=r+(gamma)maxQ(s', a') => 0.99 value future rewards more highly\n",
        "batch_size = 32\n",
        "epsilon = 1.0 #initial exploration rate (fully random before epsilion)\n",
        "epsilon_decay = 0.995 #gradual exploration before shifting to exploration (from q values)\n",
        "epsilon_min = 0.01\n",
        "buffer_size = 10000\n",
        "target_update = 10 #how often the target network is updated\n",
        "num_episodes = 750\n",
        "\n",
        "q_network = QNetwork(state_size, action_size).to(device)\n",
        "target_network = QNetwork(state_size, action_size).to(device)\n",
        "target_network.load_state_dict(q_network.state_dict())\n",
        "\n",
        "optimizer = optim.Adam(q_network.parameters(), lr=learning_rate)\n",
        "loss_fn = nn.MSELoss()\n",
        "replay_buffer = ReplayBuffer(buffer_size)"
      ],
      "metadata": {
        "id": "AVucQVRwf6Jm"
      },
      "execution_count": 39,
      "outputs": []
    },
    {
      "cell_type": "markdown",
      "source": [
        "###Define action choosing\n",
        "\n",
        "With probability epsilon, choose a random action (exploration).\n",
        "Otherwise, choose the action with the highest Q-value (exploitation)."
      ],
      "metadata": {
        "id": "RdXRRCNBU5NW"
      }
    },
    {
      "cell_type": "code",
      "source": [
        "def choose_action(state, epsilon):\n",
        "    if random.random() < epsilon:\n",
        "        return random.choice([0, 1])  # exploration\n",
        "    else:\n",
        "        state_tensor = torch.FloatTensor(state).to(device)\n",
        "        with torch.no_grad():\n",
        "            q_values = q_network(state_tensor)\n",
        "        return torch.argmax(q_values).item()  # Best action (exploitation)"
      ],
      "metadata": {
        "id": "HTLrFpcyVH12"
      },
      "execution_count": 40,
      "outputs": []
    },
    {
      "cell_type": "markdown",
      "source": [
        "## Task 1: Development of an RL agent"
      ],
      "metadata": {
        "id": "2oIzK9SzhlWN"
      }
    },
    {
      "cell_type": "markdown",
      "source": [
        "###Training of agent\n",
        "\n",
        "Loops through multiple training episodes (1000 episodes to learn from the states).\n",
        "\n",
        "Agent learns from past experiences and updates the Q-network.\n",
        "\n",
        "Target network is updated every 10 episodes."
      ],
      "metadata": {
        "id": "Cc6_e5c_huiq"
      }
    },
    {
      "cell_type": "code",
      "source": [
        "reward_history = []\n",
        "for episode in range(num_episodes):\n",
        "    state = env.reset()\n",
        "    total_reward = 0\n",
        "    done = False\n",
        "\n",
        "    while not done:\n",
        "        action = choose_action(state, epsilon)\n",
        "        next_state, reward, done, _ = env.step(action)\n",
        "        replay_buffer.add((state, action, reward, next_state, done))\n",
        "        state = next_state\n",
        "        total_reward += reward\n",
        "\n",
        "        if replay_buffer.size() >= batch_size:\n",
        "            batch = replay_buffer.sample(batch_size)\n",
        "            states, actions, rewards, next_states, dones = zip(*batch)\n",
        "\n",
        "            states = torch.FloatTensor(np.stack(states)).to(device)\n",
        "            actions = torch.LongTensor(np.array(actions)).to(device)\n",
        "            rewards = torch.FloatTensor(np.array(rewards)).to(device)\n",
        "            next_states = torch.FloatTensor(np.stack(next_states)).to(device)\n",
        "            dones = torch.FloatTensor(np.array(dones)).to(device)\n",
        "\n",
        "            q_values = q_network(states).gather(1, actions.unsqueeze(1)).squeeze(1)\n",
        "            next_q_values = target_network(next_states).max(1)[0]\n",
        "            target_q_values = rewards + gamma * next_q_values * (1 - dones)\n",
        "\n",
        "            loss = loss_fn(q_values, target_q_values.detach())\n",
        "            optimizer.zero_grad()\n",
        "            loss.backward()\n",
        "            optimizer.step()\n",
        "\n",
        "    epsilon = max(epsilon * epsilon_decay, epsilon_min)\n",
        "\n",
        "    if episode % target_update == 0:\n",
        "        target_network.load_state_dict(q_network.state_dict())\n",
        "\n",
        "    reward_history.append(total_reward)\n",
        "    print(f\"Episode {episode}, Total Reward: {total_reward}\")\n",
        "\n",
        "torch.save(q_network.state_dict(), \"cartpole_dqn.pth\")"
      ],
      "metadata": {
        "colab": {
          "base_uri": "https://localhost:8080/"
        },
        "id": "EVfWqO39sfL0",
        "outputId": "f3ad1523-4c16-4c2c-b5fd-e4b53e7fbee0"
      },
      "execution_count": 41,
      "outputs": [
        {
          "output_type": "stream",
          "name": "stdout",
          "text": [
            "Episode 0, Total Reward: 26.0\n",
            "Episode 1, Total Reward: 15.0\n",
            "Episode 2, Total Reward: 41.0\n",
            "Episode 3, Total Reward: 20.0\n",
            "Episode 4, Total Reward: 38.0\n",
            "Episode 5, Total Reward: 27.0\n",
            "Episode 6, Total Reward: 21.0\n",
            "Episode 7, Total Reward: 28.0\n",
            "Episode 8, Total Reward: 44.0\n",
            "Episode 9, Total Reward: 21.0\n",
            "Episode 10, Total Reward: 31.0\n",
            "Episode 11, Total Reward: 15.0\n",
            "Episode 12, Total Reward: 38.0\n",
            "Episode 13, Total Reward: 30.0\n",
            "Episode 14, Total Reward: 13.0\n",
            "Episode 15, Total Reward: 9.0\n",
            "Episode 16, Total Reward: 40.0\n",
            "Episode 17, Total Reward: 12.0\n",
            "Episode 18, Total Reward: 13.0\n",
            "Episode 19, Total Reward: 14.0\n",
            "Episode 20, Total Reward: 17.0\n",
            "Episode 21, Total Reward: 22.0\n",
            "Episode 22, Total Reward: 11.0\n",
            "Episode 23, Total Reward: 14.0\n",
            "Episode 24, Total Reward: 11.0\n",
            "Episode 25, Total Reward: 15.0\n",
            "Episode 26, Total Reward: 14.0\n",
            "Episode 27, Total Reward: 23.0\n",
            "Episode 28, Total Reward: 37.0\n",
            "Episode 29, Total Reward: 12.0\n",
            "Episode 30, Total Reward: 46.0\n",
            "Episode 31, Total Reward: 12.0\n",
            "Episode 32, Total Reward: 16.0\n",
            "Episode 33, Total Reward: 33.0\n",
            "Episode 34, Total Reward: 46.0\n",
            "Episode 35, Total Reward: 14.0\n",
            "Episode 36, Total Reward: 32.0\n",
            "Episode 37, Total Reward: 15.0\n",
            "Episode 38, Total Reward: 22.0\n",
            "Episode 39, Total Reward: 16.0\n",
            "Episode 40, Total Reward: 34.0\n",
            "Episode 41, Total Reward: 12.0\n",
            "Episode 42, Total Reward: 24.0\n",
            "Episode 43, Total Reward: 20.0\n",
            "Episode 44, Total Reward: 15.0\n",
            "Episode 45, Total Reward: 26.0\n",
            "Episode 46, Total Reward: 11.0\n",
            "Episode 47, Total Reward: 69.0\n",
            "Episode 48, Total Reward: 14.0\n",
            "Episode 49, Total Reward: 15.0\n",
            "Episode 50, Total Reward: 69.0\n",
            "Episode 51, Total Reward: 38.0\n",
            "Episode 52, Total Reward: 12.0\n",
            "Episode 53, Total Reward: 55.0\n",
            "Episode 54, Total Reward: 31.0\n",
            "Episode 55, Total Reward: 51.0\n",
            "Episode 56, Total Reward: 13.0\n",
            "Episode 57, Total Reward: 15.0\n",
            "Episode 58, Total Reward: 20.0\n",
            "Episode 59, Total Reward: 65.0\n",
            "Episode 60, Total Reward: 14.0\n",
            "Episode 61, Total Reward: 69.0\n",
            "Episode 62, Total Reward: 99.0\n",
            "Episode 63, Total Reward: 23.0\n",
            "Episode 64, Total Reward: 25.0\n",
            "Episode 65, Total Reward: 42.0\n",
            "Episode 66, Total Reward: 18.0\n",
            "Episode 67, Total Reward: 66.0\n",
            "Episode 68, Total Reward: 18.0\n",
            "Episode 69, Total Reward: 14.0\n",
            "Episode 70, Total Reward: 52.0\n",
            "Episode 71, Total Reward: 19.0\n",
            "Episode 72, Total Reward: 12.0\n",
            "Episode 73, Total Reward: 43.0\n",
            "Episode 74, Total Reward: 94.0\n",
            "Episode 75, Total Reward: 25.0\n",
            "Episode 76, Total Reward: 96.0\n",
            "Episode 77, Total Reward: 90.0\n",
            "Episode 78, Total Reward: 80.0\n",
            "Episode 79, Total Reward: 10.0\n",
            "Episode 80, Total Reward: 23.0\n",
            "Episode 81, Total Reward: 24.0\n",
            "Episode 82, Total Reward: 77.0\n",
            "Episode 83, Total Reward: 107.0\n",
            "Episode 84, Total Reward: 11.0\n",
            "Episode 85, Total Reward: 57.0\n",
            "Episode 86, Total Reward: 90.0\n",
            "Episode 87, Total Reward: 70.0\n",
            "Episode 88, Total Reward: 61.0\n",
            "Episode 89, Total Reward: 54.0\n",
            "Episode 90, Total Reward: 49.0\n",
            "Episode 91, Total Reward: 68.0\n",
            "Episode 92, Total Reward: 101.0\n",
            "Episode 93, Total Reward: 20.0\n",
            "Episode 94, Total Reward: 18.0\n",
            "Episode 95, Total Reward: 38.0\n",
            "Episode 96, Total Reward: 96.0\n",
            "Episode 97, Total Reward: 27.0\n",
            "Episode 98, Total Reward: 103.0\n",
            "Episode 99, Total Reward: 26.0\n",
            "Episode 100, Total Reward: 135.0\n",
            "Episode 101, Total Reward: 28.0\n",
            "Episode 102, Total Reward: 26.0\n",
            "Episode 103, Total Reward: 40.0\n",
            "Episode 104, Total Reward: 11.0\n",
            "Episode 105, Total Reward: 113.0\n",
            "Episode 106, Total Reward: 82.0\n",
            "Episode 107, Total Reward: 30.0\n",
            "Episode 108, Total Reward: 151.0\n",
            "Episode 109, Total Reward: 61.0\n",
            "Episode 110, Total Reward: 103.0\n",
            "Episode 111, Total Reward: 14.0\n",
            "Episode 112, Total Reward: 36.0\n",
            "Episode 113, Total Reward: 115.0\n",
            "Episode 114, Total Reward: 76.0\n",
            "Episode 115, Total Reward: 64.0\n",
            "Episode 116, Total Reward: 216.0\n",
            "Episode 117, Total Reward: 55.0\n",
            "Episode 118, Total Reward: 130.0\n",
            "Episode 119, Total Reward: 49.0\n",
            "Episode 120, Total Reward: 47.0\n",
            "Episode 121, Total Reward: 39.0\n",
            "Episode 122, Total Reward: 21.0\n",
            "Episode 123, Total Reward: 143.0\n",
            "Episode 124, Total Reward: 71.0\n",
            "Episode 125, Total Reward: 31.0\n",
            "Episode 126, Total Reward: 165.0\n",
            "Episode 127, Total Reward: 38.0\n",
            "Episode 128, Total Reward: 215.0\n",
            "Episode 129, Total Reward: 50.0\n",
            "Episode 130, Total Reward: 104.0\n",
            "Episode 131, Total Reward: 14.0\n",
            "Episode 132, Total Reward: 89.0\n",
            "Episode 133, Total Reward: 109.0\n",
            "Episode 134, Total Reward: 111.0\n",
            "Episode 135, Total Reward: 133.0\n",
            "Episode 136, Total Reward: 99.0\n",
            "Episode 137, Total Reward: 70.0\n",
            "Episode 138, Total Reward: 80.0\n",
            "Episode 139, Total Reward: 206.0\n",
            "Episode 140, Total Reward: 48.0\n",
            "Episode 141, Total Reward: 19.0\n",
            "Episode 142, Total Reward: 194.0\n",
            "Episode 143, Total Reward: 63.0\n",
            "Episode 144, Total Reward: 132.0\n",
            "Episode 145, Total Reward: 33.0\n",
            "Episode 146, Total Reward: 113.0\n",
            "Episode 147, Total Reward: 118.0\n",
            "Episode 148, Total Reward: 76.0\n",
            "Episode 149, Total Reward: 156.0\n",
            "Episode 150, Total Reward: 172.0\n",
            "Episode 151, Total Reward: 46.0\n",
            "Episode 152, Total Reward: 274.0\n",
            "Episode 153, Total Reward: 106.0\n",
            "Episode 154, Total Reward: 163.0\n",
            "Episode 155, Total Reward: 62.0\n",
            "Episode 156, Total Reward: 157.0\n",
            "Episode 157, Total Reward: 92.0\n",
            "Episode 158, Total Reward: 93.0\n",
            "Episode 159, Total Reward: 49.0\n",
            "Episode 160, Total Reward: 130.0\n",
            "Episode 161, Total Reward: 212.0\n",
            "Episode 162, Total Reward: 112.0\n",
            "Episode 163, Total Reward: 194.0\n",
            "Episode 164, Total Reward: 253.0\n",
            "Episode 165, Total Reward: 239.0\n",
            "Episode 166, Total Reward: 146.0\n",
            "Episode 167, Total Reward: 260.0\n",
            "Episode 168, Total Reward: 113.0\n",
            "Episode 169, Total Reward: 73.0\n",
            "Episode 170, Total Reward: 220.0\n",
            "Episode 171, Total Reward: 195.0\n",
            "Episode 172, Total Reward: 39.0\n",
            "Episode 173, Total Reward: 108.0\n",
            "Episode 174, Total Reward: 265.0\n",
            "Episode 175, Total Reward: 40.0\n",
            "Episode 176, Total Reward: 215.0\n",
            "Episode 177, Total Reward: 19.0\n",
            "Episode 178, Total Reward: 166.0\n",
            "Episode 179, Total Reward: 264.0\n",
            "Episode 180, Total Reward: 163.0\n",
            "Episode 181, Total Reward: 21.0\n",
            "Episode 182, Total Reward: 197.0\n",
            "Episode 183, Total Reward: 142.0\n",
            "Episode 184, Total Reward: 147.0\n",
            "Episode 185, Total Reward: 177.0\n",
            "Episode 186, Total Reward: 185.0\n",
            "Episode 187, Total Reward: 117.0\n",
            "Episode 188, Total Reward: 137.0\n",
            "Episode 189, Total Reward: 25.0\n",
            "Episode 190, Total Reward: 173.0\n",
            "Episode 191, Total Reward: 101.0\n",
            "Episode 192, Total Reward: 164.0\n",
            "Episode 193, Total Reward: 173.0\n",
            "Episode 194, Total Reward: 170.0\n",
            "Episode 195, Total Reward: 117.0\n",
            "Episode 196, Total Reward: 36.0\n",
            "Episode 197, Total Reward: 140.0\n",
            "Episode 198, Total Reward: 129.0\n",
            "Episode 199, Total Reward: 143.0\n",
            "Episode 200, Total Reward: 178.0\n",
            "Episode 201, Total Reward: 128.0\n",
            "Episode 202, Total Reward: 82.0\n",
            "Episode 203, Total Reward: 47.0\n",
            "Episode 204, Total Reward: 194.0\n",
            "Episode 205, Total Reward: 150.0\n",
            "Episode 206, Total Reward: 176.0\n",
            "Episode 207, Total Reward: 62.0\n",
            "Episode 208, Total Reward: 145.0\n",
            "Episode 209, Total Reward: 162.0\n",
            "Episode 210, Total Reward: 140.0\n",
            "Episode 211, Total Reward: 23.0\n",
            "Episode 212, Total Reward: 78.0\n",
            "Episode 213, Total Reward: 208.0\n",
            "Episode 214, Total Reward: 238.0\n",
            "Episode 215, Total Reward: 124.0\n",
            "Episode 216, Total Reward: 201.0\n",
            "Episode 217, Total Reward: 62.0\n",
            "Episode 218, Total Reward: 190.0\n",
            "Episode 219, Total Reward: 228.0\n",
            "Episode 220, Total Reward: 401.0\n",
            "Episode 221, Total Reward: 31.0\n",
            "Episode 222, Total Reward: 51.0\n",
            "Episode 223, Total Reward: 50.0\n",
            "Episode 224, Total Reward: 149.0\n",
            "Episode 225, Total Reward: 16.0\n",
            "Episode 226, Total Reward: 164.0\n",
            "Episode 227, Total Reward: 119.0\n",
            "Episode 228, Total Reward: 71.0\n",
            "Episode 229, Total Reward: 160.0\n",
            "Episode 230, Total Reward: 124.0\n",
            "Episode 231, Total Reward: 125.0\n",
            "Episode 232, Total Reward: 138.0\n",
            "Episode 233, Total Reward: 167.0\n",
            "Episode 234, Total Reward: 161.0\n",
            "Episode 235, Total Reward: 117.0\n",
            "Episode 236, Total Reward: 132.0\n",
            "Episode 237, Total Reward: 130.0\n",
            "Episode 238, Total Reward: 42.0\n",
            "Episode 239, Total Reward: 137.0\n",
            "Episode 240, Total Reward: 146.0\n",
            "Episode 241, Total Reward: 103.0\n",
            "Episode 242, Total Reward: 190.0\n",
            "Episode 243, Total Reward: 163.0\n",
            "Episode 244, Total Reward: 203.0\n",
            "Episode 245, Total Reward: 92.0\n",
            "Episode 246, Total Reward: 62.0\n",
            "Episode 247, Total Reward: 177.0\n",
            "Episode 248, Total Reward: 151.0\n",
            "Episode 249, Total Reward: 148.0\n",
            "Episode 250, Total Reward: 172.0\n",
            "Episode 251, Total Reward: 146.0\n",
            "Episode 252, Total Reward: 32.0\n",
            "Episode 253, Total Reward: 59.0\n",
            "Episode 254, Total Reward: 154.0\n",
            "Episode 255, Total Reward: 157.0\n",
            "Episode 256, Total Reward: 164.0\n",
            "Episode 257, Total Reward: 130.0\n",
            "Episode 258, Total Reward: 149.0\n",
            "Episode 259, Total Reward: 154.0\n",
            "Episode 260, Total Reward: 137.0\n",
            "Episode 261, Total Reward: 160.0\n",
            "Episode 262, Total Reward: 44.0\n",
            "Episode 263, Total Reward: 111.0\n",
            "Episode 264, Total Reward: 238.0\n",
            "Episode 265, Total Reward: 210.0\n",
            "Episode 266, Total Reward: 359.0\n",
            "Episode 267, Total Reward: 230.0\n",
            "Episode 268, Total Reward: 244.0\n",
            "Episode 269, Total Reward: 30.0\n",
            "Episode 270, Total Reward: 80.0\n",
            "Episode 271, Total Reward: 104.0\n",
            "Episode 272, Total Reward: 304.0\n",
            "Episode 273, Total Reward: 45.0\n",
            "Episode 274, Total Reward: 20.0\n",
            "Episode 275, Total Reward: 123.0\n",
            "Episode 276, Total Reward: 220.0\n",
            "Episode 277, Total Reward: 241.0\n",
            "Episode 278, Total Reward: 196.0\n",
            "Episode 279, Total Reward: 184.0\n",
            "Episode 280, Total Reward: 58.0\n",
            "Episode 281, Total Reward: 148.0\n",
            "Episode 282, Total Reward: 74.0\n",
            "Episode 283, Total Reward: 176.0\n",
            "Episode 284, Total Reward: 85.0\n",
            "Episode 285, Total Reward: 462.0\n",
            "Episode 286, Total Reward: 75.0\n",
            "Episode 287, Total Reward: 138.0\n",
            "Episode 288, Total Reward: 148.0\n",
            "Episode 289, Total Reward: 181.0\n",
            "Episode 290, Total Reward: 210.0\n",
            "Episode 291, Total Reward: 224.0\n",
            "Episode 292, Total Reward: 29.0\n",
            "Episode 293, Total Reward: 428.0\n",
            "Episode 294, Total Reward: 229.0\n",
            "Episode 295, Total Reward: 382.0\n",
            "Episode 296, Total Reward: 128.0\n",
            "Episode 297, Total Reward: 134.0\n",
            "Episode 298, Total Reward: 140.0\n",
            "Episode 299, Total Reward: 135.0\n",
            "Episode 300, Total Reward: 171.0\n",
            "Episode 301, Total Reward: 163.0\n",
            "Episode 302, Total Reward: 92.0\n",
            "Episode 303, Total Reward: 162.0\n",
            "Episode 304, Total Reward: 158.0\n",
            "Episode 305, Total Reward: 123.0\n",
            "Episode 306, Total Reward: 137.0\n",
            "Episode 307, Total Reward: 428.0\n",
            "Episode 308, Total Reward: 223.0\n",
            "Episode 309, Total Reward: 375.0\n",
            "Episode 310, Total Reward: 145.0\n",
            "Episode 311, Total Reward: 78.0\n",
            "Episode 312, Total Reward: 234.0\n",
            "Episode 313, Total Reward: 178.0\n",
            "Episode 314, Total Reward: 500.0\n",
            "Episode 315, Total Reward: 500.0\n",
            "Episode 316, Total Reward: 177.0\n",
            "Episode 317, Total Reward: 37.0\n",
            "Episode 318, Total Reward: 48.0\n",
            "Episode 319, Total Reward: 30.0\n",
            "Episode 320, Total Reward: 210.0\n",
            "Episode 321, Total Reward: 323.0\n",
            "Episode 322, Total Reward: 58.0\n",
            "Episode 323, Total Reward: 231.0\n",
            "Episode 324, Total Reward: 344.0\n",
            "Episode 325, Total Reward: 400.0\n",
            "Episode 326, Total Reward: 306.0\n",
            "Episode 327, Total Reward: 236.0\n",
            "Episode 328, Total Reward: 56.0\n",
            "Episode 329, Total Reward: 306.0\n",
            "Episode 330, Total Reward: 190.0\n",
            "Episode 331, Total Reward: 150.0\n",
            "Episode 332, Total Reward: 166.0\n",
            "Episode 333, Total Reward: 79.0\n",
            "Episode 334, Total Reward: 500.0\n",
            "Episode 335, Total Reward: 182.0\n",
            "Episode 336, Total Reward: 163.0\n",
            "Episode 337, Total Reward: 154.0\n",
            "Episode 338, Total Reward: 181.0\n",
            "Episode 339, Total Reward: 304.0\n",
            "Episode 340, Total Reward: 205.0\n",
            "Episode 341, Total Reward: 120.0\n",
            "Episode 342, Total Reward: 119.0\n",
            "Episode 343, Total Reward: 79.0\n",
            "Episode 344, Total Reward: 161.0\n",
            "Episode 345, Total Reward: 142.0\n",
            "Episode 346, Total Reward: 34.0\n",
            "Episode 347, Total Reward: 245.0\n",
            "Episode 348, Total Reward: 165.0\n",
            "Episode 349, Total Reward: 140.0\n",
            "Episode 350, Total Reward: 141.0\n",
            "Episode 351, Total Reward: 165.0\n",
            "Episode 352, Total Reward: 500.0\n",
            "Episode 353, Total Reward: 15.0\n",
            "Episode 354, Total Reward: 14.0\n",
            "Episode 355, Total Reward: 24.0\n",
            "Episode 356, Total Reward: 81.0\n",
            "Episode 357, Total Reward: 14.0\n",
            "Episode 358, Total Reward: 233.0\n",
            "Episode 359, Total Reward: 68.0\n",
            "Episode 360, Total Reward: 429.0\n",
            "Episode 361, Total Reward: 23.0\n",
            "Episode 362, Total Reward: 230.0\n",
            "Episode 363, Total Reward: 438.0\n",
            "Episode 364, Total Reward: 112.0\n",
            "Episode 365, Total Reward: 181.0\n",
            "Episode 366, Total Reward: 245.0\n",
            "Episode 367, Total Reward: 208.0\n",
            "Episode 368, Total Reward: 45.0\n",
            "Episode 369, Total Reward: 40.0\n",
            "Episode 370, Total Reward: 69.0\n",
            "Episode 371, Total Reward: 500.0\n",
            "Episode 372, Total Reward: 404.0\n",
            "Episode 373, Total Reward: 69.0\n",
            "Episode 374, Total Reward: 27.0\n",
            "Episode 375, Total Reward: 201.0\n",
            "Episode 376, Total Reward: 194.0\n",
            "Episode 377, Total Reward: 500.0\n",
            "Episode 378, Total Reward: 127.0\n",
            "Episode 379, Total Reward: 16.0\n",
            "Episode 380, Total Reward: 500.0\n",
            "Episode 381, Total Reward: 440.0\n",
            "Episode 382, Total Reward: 243.0\n",
            "Episode 383, Total Reward: 147.0\n",
            "Episode 384, Total Reward: 163.0\n",
            "Episode 385, Total Reward: 500.0\n",
            "Episode 386, Total Reward: 461.0\n",
            "Episode 387, Total Reward: 393.0\n",
            "Episode 388, Total Reward: 500.0\n",
            "Episode 389, Total Reward: 17.0\n",
            "Episode 390, Total Reward: 215.0\n",
            "Episode 391, Total Reward: 500.0\n",
            "Episode 392, Total Reward: 395.0\n",
            "Episode 393, Total Reward: 500.0\n",
            "Episode 394, Total Reward: 487.0\n",
            "Episode 395, Total Reward: 450.0\n",
            "Episode 396, Total Reward: 433.0\n",
            "Episode 397, Total Reward: 461.0\n",
            "Episode 398, Total Reward: 304.0\n",
            "Episode 399, Total Reward: 119.0\n",
            "Episode 400, Total Reward: 395.0\n",
            "Episode 401, Total Reward: 24.0\n",
            "Episode 402, Total Reward: 232.0\n",
            "Episode 403, Total Reward: 251.0\n",
            "Episode 404, Total Reward: 263.0\n",
            "Episode 405, Total Reward: 53.0\n",
            "Episode 406, Total Reward: 105.0\n",
            "Episode 407, Total Reward: 144.0\n",
            "Episode 408, Total Reward: 51.0\n",
            "Episode 409, Total Reward: 50.0\n",
            "Episode 410, Total Reward: 175.0\n",
            "Episode 411, Total Reward: 207.0\n",
            "Episode 412, Total Reward: 500.0\n",
            "Episode 413, Total Reward: 500.0\n",
            "Episode 414, Total Reward: 210.0\n",
            "Episode 415, Total Reward: 41.0\n",
            "Episode 416, Total Reward: 228.0\n",
            "Episode 417, Total Reward: 402.0\n",
            "Episode 418, Total Reward: 339.0\n",
            "Episode 419, Total Reward: 77.0\n",
            "Episode 420, Total Reward: 158.0\n",
            "Episode 421, Total Reward: 171.0\n",
            "Episode 422, Total Reward: 213.0\n",
            "Episode 423, Total Reward: 155.0\n",
            "Episode 424, Total Reward: 158.0\n",
            "Episode 425, Total Reward: 154.0\n",
            "Episode 426, Total Reward: 15.0\n",
            "Episode 427, Total Reward: 144.0\n",
            "Episode 428, Total Reward: 157.0\n",
            "Episode 429, Total Reward: 18.0\n",
            "Episode 430, Total Reward: 177.0\n",
            "Episode 431, Total Reward: 86.0\n",
            "Episode 432, Total Reward: 163.0\n",
            "Episode 433, Total Reward: 177.0\n",
            "Episode 434, Total Reward: 83.0\n",
            "Episode 435, Total Reward: 226.0\n",
            "Episode 436, Total Reward: 14.0\n",
            "Episode 437, Total Reward: 152.0\n",
            "Episode 438, Total Reward: 165.0\n",
            "Episode 439, Total Reward: 174.0\n",
            "Episode 440, Total Reward: 128.0\n",
            "Episode 441, Total Reward: 244.0\n",
            "Episode 442, Total Reward: 175.0\n",
            "Episode 443, Total Reward: 275.0\n",
            "Episode 444, Total Reward: 35.0\n",
            "Episode 445, Total Reward: 14.0\n",
            "Episode 446, Total Reward: 50.0\n",
            "Episode 447, Total Reward: 165.0\n",
            "Episode 448, Total Reward: 193.0\n",
            "Episode 449, Total Reward: 188.0\n",
            "Episode 450, Total Reward: 174.0\n",
            "Episode 451, Total Reward: 14.0\n",
            "Episode 452, Total Reward: 13.0\n",
            "Episode 453, Total Reward: 157.0\n",
            "Episode 454, Total Reward: 49.0\n",
            "Episode 455, Total Reward: 250.0\n",
            "Episode 456, Total Reward: 20.0\n",
            "Episode 457, Total Reward: 14.0\n",
            "Episode 458, Total Reward: 184.0\n",
            "Episode 459, Total Reward: 174.0\n",
            "Episode 460, Total Reward: 16.0\n",
            "Episode 461, Total Reward: 327.0\n",
            "Episode 462, Total Reward: 238.0\n",
            "Episode 463, Total Reward: 245.0\n",
            "Episode 464, Total Reward: 222.0\n",
            "Episode 465, Total Reward: 352.0\n",
            "Episode 466, Total Reward: 196.0\n",
            "Episode 467, Total Reward: 500.0\n",
            "Episode 468, Total Reward: 210.0\n",
            "Episode 469, Total Reward: 217.0\n",
            "Episode 470, Total Reward: 24.0\n",
            "Episode 471, Total Reward: 164.0\n",
            "Episode 472, Total Reward: 216.0\n",
            "Episode 473, Total Reward: 182.0\n",
            "Episode 474, Total Reward: 179.0\n",
            "Episode 475, Total Reward: 54.0\n",
            "Episode 476, Total Reward: 185.0\n",
            "Episode 477, Total Reward: 95.0\n",
            "Episode 478, Total Reward: 182.0\n",
            "Episode 479, Total Reward: 235.0\n",
            "Episode 480, Total Reward: 203.0\n",
            "Episode 481, Total Reward: 228.0\n",
            "Episode 482, Total Reward: 66.0\n",
            "Episode 483, Total Reward: 276.0\n",
            "Episode 484, Total Reward: 174.0\n",
            "Episode 485, Total Reward: 272.0\n",
            "Episode 486, Total Reward: 213.0\n",
            "Episode 487, Total Reward: 188.0\n",
            "Episode 488, Total Reward: 214.0\n",
            "Episode 489, Total Reward: 211.0\n",
            "Episode 490, Total Reward: 17.0\n",
            "Episode 491, Total Reward: 18.0\n",
            "Episode 492, Total Reward: 197.0\n",
            "Episode 493, Total Reward: 14.0\n",
            "Episode 494, Total Reward: 213.0\n",
            "Episode 495, Total Reward: 191.0\n",
            "Episode 496, Total Reward: 190.0\n",
            "Episode 497, Total Reward: 176.0\n",
            "Episode 498, Total Reward: 170.0\n",
            "Episode 499, Total Reward: 196.0\n",
            "Episode 500, Total Reward: 195.0\n",
            "Episode 501, Total Reward: 186.0\n",
            "Episode 502, Total Reward: 183.0\n",
            "Episode 503, Total Reward: 181.0\n",
            "Episode 504, Total Reward: 172.0\n",
            "Episode 505, Total Reward: 160.0\n",
            "Episode 506, Total Reward: 157.0\n",
            "Episode 507, Total Reward: 153.0\n",
            "Episode 508, Total Reward: 56.0\n",
            "Episode 509, Total Reward: 181.0\n",
            "Episode 510, Total Reward: 220.0\n",
            "Episode 511, Total Reward: 30.0\n",
            "Episode 512, Total Reward: 164.0\n",
            "Episode 513, Total Reward: 165.0\n",
            "Episode 514, Total Reward: 162.0\n",
            "Episode 515, Total Reward: 176.0\n",
            "Episode 516, Total Reward: 134.0\n",
            "Episode 517, Total Reward: 143.0\n",
            "Episode 518, Total Reward: 145.0\n",
            "Episode 519, Total Reward: 155.0\n",
            "Episode 520, Total Reward: 152.0\n",
            "Episode 521, Total Reward: 188.0\n",
            "Episode 522, Total Reward: 169.0\n",
            "Episode 523, Total Reward: 36.0\n",
            "Episode 524, Total Reward: 203.0\n",
            "Episode 525, Total Reward: 155.0\n",
            "Episode 526, Total Reward: 150.0\n",
            "Episode 527, Total Reward: 182.0\n",
            "Episode 528, Total Reward: 173.0\n",
            "Episode 529, Total Reward: 185.0\n",
            "Episode 530, Total Reward: 167.0\n",
            "Episode 531, Total Reward: 300.0\n",
            "Episode 532, Total Reward: 282.0\n",
            "Episode 533, Total Reward: 240.0\n",
            "Episode 534, Total Reward: 259.0\n",
            "Episode 535, Total Reward: 292.0\n",
            "Episode 536, Total Reward: 239.0\n",
            "Episode 537, Total Reward: 281.0\n",
            "Episode 538, Total Reward: 258.0\n",
            "Episode 539, Total Reward: 277.0\n",
            "Episode 540, Total Reward: 305.0\n",
            "Episode 541, Total Reward: 287.0\n",
            "Episode 542, Total Reward: 311.0\n",
            "Episode 543, Total Reward: 500.0\n",
            "Episode 544, Total Reward: 246.0\n",
            "Episode 545, Total Reward: 500.0\n",
            "Episode 546, Total Reward: 316.0\n",
            "Episode 547, Total Reward: 267.0\n",
            "Episode 548, Total Reward: 273.0\n",
            "Episode 549, Total Reward: 245.0\n",
            "Episode 550, Total Reward: 232.0\n",
            "Episode 551, Total Reward: 326.0\n",
            "Episode 552, Total Reward: 443.0\n",
            "Episode 553, Total Reward: 353.0\n",
            "Episode 554, Total Reward: 363.0\n",
            "Episode 555, Total Reward: 450.0\n",
            "Episode 556, Total Reward: 416.0\n",
            "Episode 557, Total Reward: 500.0\n",
            "Episode 558, Total Reward: 16.0\n",
            "Episode 559, Total Reward: 444.0\n",
            "Episode 560, Total Reward: 292.0\n",
            "Episode 561, Total Reward: 500.0\n",
            "Episode 562, Total Reward: 374.0\n",
            "Episode 563, Total Reward: 344.0\n",
            "Episode 564, Total Reward: 497.0\n",
            "Episode 565, Total Reward: 24.0\n",
            "Episode 566, Total Reward: 139.0\n",
            "Episode 567, Total Reward: 240.0\n",
            "Episode 568, Total Reward: 143.0\n",
            "Episode 569, Total Reward: 210.0\n",
            "Episode 570, Total Reward: 415.0\n",
            "Episode 571, Total Reward: 184.0\n",
            "Episode 572, Total Reward: 147.0\n",
            "Episode 573, Total Reward: 181.0\n",
            "Episode 574, Total Reward: 171.0\n",
            "Episode 575, Total Reward: 133.0\n",
            "Episode 576, Total Reward: 179.0\n",
            "Episode 577, Total Reward: 223.0\n",
            "Episode 578, Total Reward: 129.0\n",
            "Episode 579, Total Reward: 138.0\n",
            "Episode 580, Total Reward: 46.0\n",
            "Episode 581, Total Reward: 133.0\n",
            "Episode 582, Total Reward: 124.0\n",
            "Episode 583, Total Reward: 105.0\n",
            "Episode 584, Total Reward: 104.0\n",
            "Episode 585, Total Reward: 110.0\n",
            "Episode 586, Total Reward: 118.0\n",
            "Episode 587, Total Reward: 109.0\n",
            "Episode 588, Total Reward: 99.0\n",
            "Episode 589, Total Reward: 111.0\n",
            "Episode 590, Total Reward: 99.0\n",
            "Episode 591, Total Reward: 97.0\n",
            "Episode 592, Total Reward: 103.0\n",
            "Episode 593, Total Reward: 97.0\n",
            "Episode 594, Total Reward: 94.0\n",
            "Episode 595, Total Reward: 94.0\n",
            "Episode 596, Total Reward: 95.0\n",
            "Episode 597, Total Reward: 90.0\n",
            "Episode 598, Total Reward: 97.0\n",
            "Episode 599, Total Reward: 100.0\n",
            "Episode 600, Total Reward: 97.0\n",
            "Episode 601, Total Reward: 94.0\n",
            "Episode 602, Total Reward: 104.0\n",
            "Episode 603, Total Reward: 22.0\n",
            "Episode 604, Total Reward: 92.0\n",
            "Episode 605, Total Reward: 103.0\n",
            "Episode 606, Total Reward: 99.0\n",
            "Episode 607, Total Reward: 97.0\n",
            "Episode 608, Total Reward: 19.0\n",
            "Episode 609, Total Reward: 99.0\n",
            "Episode 610, Total Reward: 94.0\n",
            "Episode 611, Total Reward: 91.0\n",
            "Episode 612, Total Reward: 93.0\n",
            "Episode 613, Total Reward: 96.0\n",
            "Episode 614, Total Reward: 88.0\n",
            "Episode 615, Total Reward: 88.0\n",
            "Episode 616, Total Reward: 90.0\n",
            "Episode 617, Total Reward: 107.0\n",
            "Episode 618, Total Reward: 90.0\n",
            "Episode 619, Total Reward: 89.0\n",
            "Episode 620, Total Reward: 33.0\n",
            "Episode 621, Total Reward: 87.0\n",
            "Episode 622, Total Reward: 92.0\n",
            "Episode 623, Total Reward: 97.0\n",
            "Episode 624, Total Reward: 100.0\n",
            "Episode 625, Total Reward: 99.0\n",
            "Episode 626, Total Reward: 92.0\n",
            "Episode 627, Total Reward: 88.0\n",
            "Episode 628, Total Reward: 110.0\n",
            "Episode 629, Total Reward: 109.0\n",
            "Episode 630, Total Reward: 97.0\n",
            "Episode 631, Total Reward: 50.0\n",
            "Episode 632, Total Reward: 49.0\n",
            "Episode 633, Total Reward: 95.0\n",
            "Episode 634, Total Reward: 98.0\n",
            "Episode 635, Total Reward: 97.0\n",
            "Episode 636, Total Reward: 93.0\n",
            "Episode 637, Total Reward: 58.0\n",
            "Episode 638, Total Reward: 67.0\n",
            "Episode 639, Total Reward: 90.0\n",
            "Episode 640, Total Reward: 92.0\n",
            "Episode 641, Total Reward: 91.0\n",
            "Episode 642, Total Reward: 64.0\n",
            "Episode 643, Total Reward: 106.0\n",
            "Episode 644, Total Reward: 111.0\n",
            "Episode 645, Total Reward: 93.0\n",
            "Episode 646, Total Reward: 95.0\n",
            "Episode 647, Total Reward: 29.0\n",
            "Episode 648, Total Reward: 102.0\n",
            "Episode 649, Total Reward: 94.0\n",
            "Episode 650, Total Reward: 98.0\n",
            "Episode 651, Total Reward: 116.0\n",
            "Episode 652, Total Reward: 147.0\n",
            "Episode 653, Total Reward: 144.0\n",
            "Episode 654, Total Reward: 95.0\n",
            "Episode 655, Total Reward: 108.0\n",
            "Episode 656, Total Reward: 108.0\n",
            "Episode 657, Total Reward: 16.0\n",
            "Episode 658, Total Reward: 92.0\n",
            "Episode 659, Total Reward: 104.0\n",
            "Episode 660, Total Reward: 97.0\n",
            "Episode 661, Total Reward: 91.0\n",
            "Episode 662, Total Reward: 96.0\n",
            "Episode 663, Total Reward: 100.0\n",
            "Episode 664, Total Reward: 95.0\n",
            "Episode 665, Total Reward: 103.0\n",
            "Episode 666, Total Reward: 90.0\n",
            "Episode 667, Total Reward: 96.0\n",
            "Episode 668, Total Reward: 90.0\n",
            "Episode 669, Total Reward: 115.0\n",
            "Episode 670, Total Reward: 96.0\n",
            "Episode 671, Total Reward: 100.0\n",
            "Episode 672, Total Reward: 90.0\n",
            "Episode 673, Total Reward: 97.0\n",
            "Episode 674, Total Reward: 93.0\n",
            "Episode 675, Total Reward: 88.0\n",
            "Episode 676, Total Reward: 22.0\n",
            "Episode 677, Total Reward: 94.0\n",
            "Episode 678, Total Reward: 91.0\n",
            "Episode 679, Total Reward: 93.0\n",
            "Episode 680, Total Reward: 36.0\n",
            "Episode 681, Total Reward: 93.0\n",
            "Episode 682, Total Reward: 99.0\n",
            "Episode 683, Total Reward: 100.0\n",
            "Episode 684, Total Reward: 89.0\n",
            "Episode 685, Total Reward: 87.0\n",
            "Episode 686, Total Reward: 99.0\n",
            "Episode 687, Total Reward: 102.0\n",
            "Episode 688, Total Reward: 95.0\n",
            "Episode 689, Total Reward: 102.0\n",
            "Episode 690, Total Reward: 227.0\n",
            "Episode 691, Total Reward: 500.0\n",
            "Episode 692, Total Reward: 500.0\n",
            "Episode 693, Total Reward: 105.0\n",
            "Episode 694, Total Reward: 140.0\n",
            "Episode 695, Total Reward: 108.0\n",
            "Episode 696, Total Reward: 103.0\n",
            "Episode 697, Total Reward: 100.0\n",
            "Episode 698, Total Reward: 111.0\n",
            "Episode 699, Total Reward: 102.0\n",
            "Episode 700, Total Reward: 69.0\n",
            "Episode 701, Total Reward: 116.0\n",
            "Episode 702, Total Reward: 65.0\n",
            "Episode 703, Total Reward: 141.0\n",
            "Episode 704, Total Reward: 228.0\n",
            "Episode 705, Total Reward: 254.0\n",
            "Episode 706, Total Reward: 177.0\n",
            "Episode 707, Total Reward: 117.0\n",
            "Episode 708, Total Reward: 196.0\n",
            "Episode 709, Total Reward: 187.0\n",
            "Episode 710, Total Reward: 247.0\n",
            "Episode 711, Total Reward: 80.0\n",
            "Episode 712, Total Reward: 306.0\n",
            "Episode 713, Total Reward: 106.0\n",
            "Episode 714, Total Reward: 153.0\n",
            "Episode 715, Total Reward: 157.0\n",
            "Episode 716, Total Reward: 144.0\n",
            "Episode 717, Total Reward: 118.0\n",
            "Episode 718, Total Reward: 107.0\n",
            "Episode 719, Total Reward: 279.0\n",
            "Episode 720, Total Reward: 131.0\n",
            "Episode 721, Total Reward: 170.0\n",
            "Episode 722, Total Reward: 199.0\n",
            "Episode 723, Total Reward: 299.0\n",
            "Episode 724, Total Reward: 140.0\n",
            "Episode 725, Total Reward: 108.0\n",
            "Episode 726, Total Reward: 212.0\n",
            "Episode 727, Total Reward: 426.0\n",
            "Episode 728, Total Reward: 300.0\n",
            "Episode 729, Total Reward: 109.0\n",
            "Episode 730, Total Reward: 182.0\n",
            "Episode 731, Total Reward: 79.0\n",
            "Episode 732, Total Reward: 263.0\n",
            "Episode 733, Total Reward: 298.0\n",
            "Episode 734, Total Reward: 256.0\n",
            "Episode 735, Total Reward: 293.0\n",
            "Episode 736, Total Reward: 278.0\n",
            "Episode 737, Total Reward: 232.0\n",
            "Episode 738, Total Reward: 257.0\n",
            "Episode 739, Total Reward: 65.0\n",
            "Episode 740, Total Reward: 264.0\n",
            "Episode 741, Total Reward: 224.0\n",
            "Episode 742, Total Reward: 246.0\n",
            "Episode 743, Total Reward: 361.0\n",
            "Episode 744, Total Reward: 232.0\n",
            "Episode 745, Total Reward: 221.0\n",
            "Episode 746, Total Reward: 287.0\n",
            "Episode 747, Total Reward: 109.0\n",
            "Episode 748, Total Reward: 227.0\n",
            "Episode 749, Total Reward: 269.0\n"
          ]
        }
      ]
    },
    {
      "cell_type": "markdown",
      "source": [
        "For Task 1, we can show the observation and chosen action below:"
      ],
      "metadata": {
        "id": "RAi7KKwNiegR"
      }
    },
    {
      "cell_type": "code",
      "source": [
        "state = env.reset()\n",
        "action = choose_action(state, 0.0)\n",
        "\n",
        "print(\"state: \", state)\n",
        "print(\"Choosen action: \", action)"
      ],
      "metadata": {
        "colab": {
          "base_uri": "https://localhost:8080/"
        },
        "id": "ae2ia-vUiNKJ",
        "outputId": "083dfa0b-b65f-4d33-d8c3-52e49410311c"
      },
      "execution_count": 42,
      "outputs": [
        {
          "output_type": "stream",
          "name": "stdout",
          "text": [
            "state:  [-0.03312256 -0.03317246 -0.0180353  -0.00396399]\n",
            "Choosen action:  1\n"
          ]
        }
      ]
    },
    {
      "cell_type": "markdown",
      "source": [
        "## Task 2: Demonstrate the effectiveness of the RL agent"
      ],
      "metadata": {
        "id": "-XtIQ0Rti1gm"
      }
    },
    {
      "cell_type": "markdown",
      "source": [
        "For this task, use the agent developed in Task 1 to play the game for 100 episodes (refer to tutorial for how to play a round), record the cumulative reward for each round, and plot the reward for each round. A sample plotting code is given below. Note that you must include code to play for 100 episodes and use the code to obtain round_results for plotting. DO NOT record the round results in advance and paste the results to the notebook."
      ],
      "metadata": {
        "id": "djBEShf0kGI4"
      }
    },
    {
      "cell_type": "code",
      "source": [
        "q_network = QNetwork(state_size, action_size).to(device)\n",
        "q_network.load_state_dict(torch.load(\"cartpole_dqn.pth\"))\n",
        "q_network.eval()\n",
        "\n",
        "eval_episode_results = []\n",
        "num_eval_episodes = 100\n",
        "\n",
        "for episode in range(num_eval_episodes):\n",
        "  state = env.reset()\n",
        "  total_reward = 0\n",
        "  done = False\n",
        "\n",
        "  while not done:\n",
        "    action = choose_action(state, 0.0)\n",
        "    next_state, reward, done, _ = env.step(action)\n",
        "    total_reward += reward\n",
        "    state = next_state\n",
        "\n",
        "  eval_episode_results.append(total_reward)\n",
        "\n",
        "\n",
        "plt.plot(eval_episode_results)\n",
        "plt.title('Cumulative reward for each episode')\n",
        "plt.ylabel('Cumulative reward')\n",
        "plt.xlabel('Episode')\n",
        "plt.show()\n"
      ],
      "metadata": {
        "colab": {
          "base_uri": "https://localhost:8080/",
          "height": 527
        },
        "id": "RZrCKywQi6CE",
        "outputId": "21f44fdb-0c1e-43e9-e1fb-a7cc58362e41"
      },
      "execution_count": 48,
      "outputs": [
        {
          "output_type": "stream",
          "name": "stderr",
          "text": [
            "<ipython-input-48-329acaf63f3f>:2: FutureWarning: You are using `torch.load` with `weights_only=False` (the current default value), which uses the default pickle module implicitly. It is possible to construct malicious pickle data which will execute arbitrary code during unpickling (See https://github.com/pytorch/pytorch/blob/main/SECURITY.md#untrusted-models for more details). In a future release, the default value for `weights_only` will be flipped to `True`. This limits the functions that could be executed during unpickling. Arbitrary objects will no longer be allowed to be loaded via this mode unless they are explicitly allowlisted by the user via `torch.serialization.add_safe_globals`. We recommend you start setting `weights_only=True` for any use case where you don't have full control of the loaded file. Please open an issue on GitHub for any issues related to this experimental feature.\n",
            "  q_network.load_state_dict(torch.load(\"cartpole_dqn.pth\"))\n"
          ]
        },
        {
          "output_type": "display_data",
          "data": {
            "text/plain": [
              "<Figure size 640x480 with 1 Axes>"
            ],
            "image/png": "[encoded data removed]"
          },
          "metadata": {}
        }
      ]
    },
    {
      "cell_type": "markdown",
      "source": [
        "Print the average reward over the 100 episodes."
      ],
      "metadata": {
        "id": "XndSYH7wlvn7"
      }
    },
    {
      "cell_type": "code",
      "source": [
        "average_reward = np.mean(eval_episode_results)\n",
        "print(\"Average cumulative reward:\", average_reward)\n",
        "print(\"Is my agent good enough?\", average_reward > 195)"
      ],
      "metadata": {
        "colab": {
          "base_uri": "https://localhost:8080/"
        },
        "id": "pOiOp9OYlo5Y",
        "outputId": "4be8e014-5245-4522-de2e-6a3840b55782"
      },
      "execution_count": 49,
      "outputs": [
        {
          "output_type": "stream",
          "name": "stdout",
          "text": [
            "Average cumulative reward: 219.2\n",
            "Is my agent good enough? True\n"
          ]
        }
      ]
    },
    {
      "cell_type": "markdown",
      "source": [
        "## Task 3: Render one episode played by the agent"
      ],
      "metadata": {
        "id": "Yg0DCT38lFA6"
      }
    },
    {
      "cell_type": "markdown",
      "source": [
        "Plug your agent to the code below to obtain rendered result."
      ],
      "metadata": {
        "id": "vx1awMr9lc_w"
      }
    },
    {
      "cell_type": "code",
      "source": [
        "from gym.wrappers import RecordVideo"
      ],
      "metadata": {
        "id": "Lm04zRV9y1JP"
      },
      "execution_count": 50,
      "outputs": []
    },
    {
      "cell_type": "code",
      "source": [
        "env = RecordVideo(gym.make(\"CartPole-v1\"), \"./video\")\n",
        "observation = env.reset()\n",
        "while True:\n",
        "    env.render()\n",
        "    #your agent goes here\n",
        "    action = choose_action(observation, 0.0)\n",
        "    observation, reward, done, _ = env.step(action)\n",
        "    if done:\n",
        "      break;\n",
        "env.close()\n",
        "show_video()"
      ],
      "metadata": {
        "colab": {
          "base_uri": "https://localhost:8080/",
          "height": 456
        },
        "id": "LYyavfbIa47D",
        "outputId": "a5fa9e16-45c3-4d80-9977-a216e1dadad5"
      },
      "execution_count": 54,
      "outputs": [
        {
          "output_type": "stream",
          "name": "stderr",
          "text": [
            "/usr/local/lib/python3.11/dist-packages/gym/utils/passive_env_checker.py:241: DeprecationWarning: `np.bool8` is a deprecated alias for `np.bool_`.  (Deprecated NumPy 1.24)\n",
            "  if not isinstance(terminated, (bool, np.bool8)):\n"
          ]
        },
        {
          "output_type": "display_data",
          "data": {
            "text/plain": [
              "<IPython.core.display.HTML object>"
            ],
            "text/html": [
              "<video alt=\"test\" autoplay \n",
              "                loop controls style=\"height: 400px;\">\n",
              "                <source src=\"data:video/mp4;base64,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\" type=\"video/mp4\" />\n",
              "             </video>"
            ]
          },
          "metadata": {}
        }
      ]
    },
    {
      "cell_type": "code",
      "source": [],
      "metadata": {
        "id": "625yLAMoBbOD"
      },
      "execution_count": null,
      "outputs": []
    }
  ]
}